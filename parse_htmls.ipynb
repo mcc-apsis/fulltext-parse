{
 "cells": [
  {
   "cell_type": "code",
   "execution_count": 1,
   "metadata": {},
   "outputs": [],
   "source": [
    "import pandas as pd\n",
    "import requests\n",
    "from bs4 import BeautifulSoup\n",
    "\n",
    "import os.path\n",
    "import sys\n",
    "import django\n",
    "sys.path.append('/home/galm/software/django/tmv/BasicBrowser')\n",
    "sys.path.append('/home/max/software/django-tmv/tmv_mcc-apsis/BasicBrowser')\n",
    "os.environ.setdefault(\"DJANGO_SETTINGS_MODULE\", \"BasicBrowser.settings\")\n",
    "django.setup()\n",
    "import scoping\n",
    "from scoping.models import *\n",
    "from utils.text import *"
   ]
  },
  {
   "cell_type": "code",
   "execution_count": 2,
   "metadata": {},
   "outputs": [
    {
     "name": "stdout",
     "output_type": "stream",
     "text": [
      "(385, 6)\n",
      "(337, 6)\n"
     ]
    },
    {
     "data": {
      "text/html": [
       "<div>\n",
       "<style scoped>\n",
       "    .dataframe tbody tr th:only-of-type {\n",
       "        vertical-align: middle;\n",
       "    }\n",
       "\n",
       "    .dataframe tbody tr th {\n",
       "        vertical-align: top;\n",
       "    }\n",
       "\n",
       "    .dataframe thead th {\n",
       "        text-align: right;\n",
       "    }\n",
       "</style>\n",
       "<table border=\"1\" class=\"dataframe\">\n",
       "  <thead>\n",
       "    <tr style=\"text-align: right;\">\n",
       "      <th></th>\n",
       "      <th>wosarticle__ti</th>\n",
       "      <th>wosarticle__py</th>\n",
       "      <th>wosarticle__doc</th>\n",
       "      <th>wosarticle__di</th>\n",
       "      <th>docproject__relevant</th>\n",
       "      <th>redirect_url</th>\n",
       "    </tr>\n",
       "  </thead>\n",
       "  <tbody>\n",
       "    <tr>\n",
       "      <th>0</th>\n",
       "      <td>The European Commission on Sustainable Develop...</td>\n",
       "      <td>NaN</td>\n",
       "      <td>5213276</td>\n",
       "      <td>http://dx.doi.org/10.1080/07360932.2022.2032255</td>\n",
       "      <td>Yes (1)</td>\n",
       "      <td>https://www.tandfonline.com/doi/full/10.1080/0...</td>\n",
       "    </tr>\n",
       "    <tr>\n",
       "      <th>4</th>\n",
       "      <td>A bottom-up dynamic building stock model for r...</td>\n",
       "      <td>2022.0</td>\n",
       "      <td>4915915</td>\n",
       "      <td>http://dx.doi.org/10.1016/j.apenergy.2021.118060</td>\n",
       "      <td>Yes (1)</td>\n",
       "      <td>https://linkinghub.elsevier.com/retrieve/pii/S...</td>\n",
       "    </tr>\n",
       "    <tr>\n",
       "      <th>5</th>\n",
       "      <td>Destination net-zero: what does the internatio...</td>\n",
       "      <td>2022.0</td>\n",
       "      <td>4916232</td>\n",
       "      <td>http://dx.doi.org/10.1080/09669582.2021.1962890</td>\n",
       "      <td>Yes (1)</td>\n",
       "      <td>https://www.tandfonline.com/doi/full/10.1080/0...</td>\n",
       "    </tr>\n",
       "    <tr>\n",
       "      <th>6</th>\n",
       "      <td>Possibilities of Ammonia as Both Fuel and NOx ...</td>\n",
       "      <td>2022.0</td>\n",
       "      <td>4947789</td>\n",
       "      <td>http://dx.doi.org/10.3390/jmse10010043</td>\n",
       "      <td>Yes (1)</td>\n",
       "      <td>https://www.mdpi.com/2077-1312/10/1/43/htm</td>\n",
       "    </tr>\n",
       "    <tr>\n",
       "      <th>7</th>\n",
       "      <td>Potential effects of the EU's carbon border ad...</td>\n",
       "      <td>2022.0</td>\n",
       "      <td>5196097</td>\n",
       "      <td>http://dx.doi.org/10.1007/s10668-021-01779-1</td>\n",
       "      <td>Yes (1)</td>\n",
       "      <td>https://link.springer.com/article/10.1007/s106...</td>\n",
       "    </tr>\n",
       "  </tbody>\n",
       "</table>\n",
       "</div>"
      ],
      "text/plain": [
       "                                      wosarticle__ti  wosarticle__py  \\\n",
       "0  The European Commission on Sustainable Develop...             NaN   \n",
       "4  A bottom-up dynamic building stock model for r...          2022.0   \n",
       "5  Destination net-zero: what does the internatio...          2022.0   \n",
       "6  Possibilities of Ammonia as Both Fuel and NOx ...          2022.0   \n",
       "7  Potential effects of the EU's carbon border ad...          2022.0   \n",
       "\n",
       "   wosarticle__doc                                    wosarticle__di  \\\n",
       "0          5213276   http://dx.doi.org/10.1080/07360932.2022.2032255   \n",
       "4          4915915  http://dx.doi.org/10.1016/j.apenergy.2021.118060   \n",
       "5          4916232   http://dx.doi.org/10.1080/09669582.2021.1962890   \n",
       "6          4947789            http://dx.doi.org/10.3390/jmse10010043   \n",
       "7          5196097      http://dx.doi.org/10.1007/s10668-021-01779-1   \n",
       "\n",
       "  docproject__relevant                                       redirect_url  \n",
       "0              Yes (1)  https://www.tandfonline.com/doi/full/10.1080/0...  \n",
       "4              Yes (1)  https://linkinghub.elsevier.com/retrieve/pii/S...  \n",
       "5              Yes (1)  https://www.tandfonline.com/doi/full/10.1080/0...  \n",
       "6              Yes (1)         https://www.mdpi.com/2077-1312/10/1/43/htm  \n",
       "7              Yes (1)  https://link.springer.com/article/10.1007/s106...  "
      ]
     },
     "execution_count": 2,
     "metadata": {},
     "output_type": "execute_result"
    }
   ],
   "source": [
    "df = pd.read_csv('data/documents_parsed.csv')\n",
    "print(df.shape)\n",
    "df = df[pd.notna(df['redirect_url'])]\n",
    "print(df.shape)\n",
    "df.head()"
   ]
  },
  {
   "cell_type": "code",
   "execution_count": null,
   "metadata": {},
   "outputs": [],
   "source": []
  },
  {
   "cell_type": "code",
   "execution_count": 21,
   "metadata": {},
   "outputs": [
    {
     "name": "stdout",
     "output_type": "stream",
     "text": [
      "10_1080__07360932_2022_2032255\n",
      "https://www.tandfonline.com/doi/full/10.1080/07360932.2022.2032255\n",
      "35\n"
     ]
    }
   ],
   "source": [
    "def get_ps(html_doc):  \n",
    "    soup = BeautifulSoup(html_doc, 'html.parser')\n",
    "    # MDPI\n",
    "    body = soup.find(\"div\", class_=\"html-body\")\n",
    "    if body is not None:\n",
    "        ps = body.find_all(\"div\", class_=\"html-p\")\n",
    "        if len(ps) > 0:\n",
    "            return ps\n",
    "        else:\n",
    "            print(body.prettify())\n",
    "            return []\n",
    "    # Springer nature\n",
    "    body = soup.find(\"div\", attrs={\"data-article-body\": \"true\"})\n",
    "    if body is not None:\n",
    "        ps = body.find_all(\"p\")\n",
    "        if len(ps) > 0:\n",
    "            return ps\n",
    "        else:\n",
    "            print(body.prettify())   \n",
    "            return []\n",
    "    # T&F\n",
    "    body = soup.find(\"div\", class_=\"hlFld-Fulltext\")\n",
    "    if body is not None:\n",
    "        ps = body.find_all(\"p\")\n",
    "        if len(ps) > 0:\n",
    "            return ps\n",
    "        else:\n",
    "            print(body.prettify())\n",
    "            return []\n",
    "    \n",
    "    print(soup.prettify())\n",
    "    return []\n",
    "\n",
    "q = Query.objects.get(pk=10704)\n",
    "\n",
    "tag, created = Tag.objects.get_or_create(\n",
    "    query = q,\n",
    "    title = \"Paragraph review\"\n",
    ")\n",
    "      \n",
    "users = User.objects.filter(projectroles__project=p)\n",
    "    \n",
    "for i, row in df.reset_index().iterrows():\n",
    "    fname = row['wosarticle__di'].split('org/')[-1].replace('/','__').replace('.','_')\n",
    "    print(fname)\n",
    "    print(row['redirect_url'])\n",
    "    try:\n",
    "        with open(f\"fulltexts/{fname}.html\") as f:\n",
    "            ps = get_ps(f)\n",
    "            print(len(ps))\n",
    "    except:\n",
    "        print(\"could not find file ?\")\n",
    "        continue\n",
    "        \n",
    "    doc = Doc.objects.get(pk=row['wosarticle__doc'])\n",
    "    if not doc.docpar_set.exists():\n",
    "        print(\"Creating new docpar objects\")\n",
    "        for i, p in enumerate(ps):\n",
    "            dp, created = DocPar.objects.get_or_create(\n",
    "                doc = doc,\n",
    "                text = p.get_text(),\n",
    "                n = i\n",
    "            )\n",
    "            \n",
    "    for u in users:\n",
    "        for dp in doc.docpar_set.all():\n",
    "            do, created = DocOwnership.objects.get_or_create(\n",
    "                docpar = dp, user = u, tag = tag, query = q\n",
    "            )\n",
    "        \n",
    "    break\n",
    "        \n",
    "    tag.update_tag()\n",
    "    if len(ps) < 2:\n",
    "        break\n",
    "        \n",
    "    "
   ]
  },
  {
   "cell_type": "code",
   "execution_count": 20,
   "metadata": {},
   "outputs": [
    {
     "data": {
      "text/plain": [
       "<QuerySet [<User: minj>, <User: s.palazzo-corner19@imperial.ac.uk>, <User: galm>, <User: jletro01@student.bbk.ac.uk>, <User: j.rogelj@imperial.ac.uk>]>"
      ]
     },
     "execution_count": 20,
     "metadata": {},
     "output_type": "execute_result"
    }
   ],
   "source": [
    "django.db.connection.close()\n",
    "p = q.project\n",
    "users = User.objects.filter(projectroles__project=p)"
   ]
  },
  {
   "cell_type": "code",
   "execution_count": 87,
   "metadata": {},
   "outputs": [
    {
     "name": "stdout",
     "output_type": "stream",
     "text": [
      "https://linkinghub.elsevier.com/retrieve/pii/S0378778821009567\n"
     ]
    },
    {
     "data": {
      "text/plain": [
       "'<!DOCTYPE HTML PUBLIC \"-//W3C//DTD HTML 4.01 Transitional//EN\" \"https://www.w3.org/TR/html4/loose.dtd\">\\n<html>\\n <head>\\n  <meta charset=\"utf-8\"/>\\n  <meta content=\"text/html\" http-equiv=\"Content-Type\"/>\\n  <meta content=\"2; url=\\'/retrieve/articleSelectSinglePerm?Redirect=https%3A%2F%2Fwww.sciencedirect.com%2Fscience%2Farticle%2Fpii%2FS0378778821009567%3Fvia%253Dihub&amp;key=c59e2457a94e37e3cc240380f6e1a0834386a377\\'\" http-equiv=\"REFRESH\">\\n   <script type=\"text/javascript\">\\n    (window.NREUM||(NREUM={})).init={ajax:{deny_list:[\"bam-cell.nr-data.net\"]}};(window.NREUM||(NREUM={})).loader_config={licenseKey:\"ee15051b1b\",applicationID:\"81847441\"};window.NREUM||(NREUM={}),__nr_require=function(t,e,n){function r(n){if(!e[n]){var i=e[n]={exports:{}};t[n][0].call(i.exports,function(e){var i=t[n][1][e];return r(i||e)},i,i.exports)}return e[n].exports}if(\"function\"==typeof __nr_require)return __nr_require;for(var i=0;i<n.length;i++)r(n[i]);return r}({1:[function(t,e,n){function r(){}function i(t,e,n,r){return function(){return s.recordSupportability(\"API/\"+e+\"/called\"),o(t+e,[u.now()].concat(c(arguments)),n?null:this,r),n?void 0:this}}var o=t(\"handle\"),a=t(9),c=t(10),f=t(\"ee\").get(\"tracer\"),u=t(\"loader\"),s=t(4),d=NREUM;\"undefined\"==typeof window.newrelic&&(newrelic=d);var p=[\"setPageViewName\",\"setCustomAttribute\",\"setErrorHandler\",\"finished\",\"addToTrace\",\"inlineHit\",\"addRelease\"],l=\"api-\",v=l+\"ixn-\";a(p,function(t,e){d[e]=i(l,e,!0,\"api\")}),d.addPageAction=i(l,\"addPageAction\",!0),d.setCurrentRouteName=i(l,\"routeName\",!0),e.exports=newrelic,d.interaction=function(){return(new r).get()};var m=r.prototype={createTracer:function(t,e){var n={},r=this,i=\"function\"==typeof e;return o(v+\"tracer\",[u.now(),t,n],r),function(){if(f.emit((i?\"\":\"no-\")+\"fn-start\",[u.now(),r,i],n),i)try{return e.apply(this,arguments)}catch(t){throw f.emit(\"fn-err\",[arguments,this,t],n),t}finally{f.emit(\"fn-end\",[u.now()],n)}}}};a(\"actionText,setName,setAttribute,save,ignore,onEnd,getContext,end,get\".split(\",\"),function(t,e){m[e]=i(v,e)}),newrelic.noticeError=function(t,e){\"string\"==typeof t&&(t=new Error(t)),s.recordSupportability(\"API/noticeError/called\"),o(\"err\",[t,u.now(),!1,e])}},{}],2:[function(t,e,n){function r(t){if(NREUM.init){for(var e=NREUM.init,n=t.split(\".\"),r=0;r<n.length-1;r++)if(e=e[n[r]],\"object\"!=typeof e)return;return e=e[n[n.length-1]]}}e.exports={getConfiguration:r}},{}],3:[function(t,e,n){var r=!1;try{var i=Object.defineProperty({},\"passive\",{get:function(){r=!0}});window.addEventListener(\"testPassive\",null,i),window.removeEventListener(\"testPassive\",null,i)}catch(o){}e.exports=function(t){return r?{passive:!0,capture:!!t}:!!t}},{}],4:[function(t,e,n){function r(t,e){var n=[a,t,{name:t},e];return o(\"storeMetric\",n,null,\"api\"),n}function i(t,e){var n=[c,t,{name:t},e];return o(\"storeEventMetrics\",n,null,\"api\"),n}var o=t(\"handle\"),a=\"sm\",c=\"cm\";e.exports={constants:{SUPPORTABILITY_METRIC:a,CUSTOM_METRIC:c},recordSupportability:r,recordCustom:i}},{}],5:[function(t,e,n){function r(){return c.exists&&performance.now?Math.round(performance.now()):(o=Math.max((new Date).getTime(),o))-a}function i(){return o}var o=(new Date).getTime(),a=o,c=t(11);e.exports=r,e.exports.offset=a,e.exports.getLastTimestamp=i},{}],6:[function(t,e,n){function r(t,e){var n=t.getEntries();n.forEach(function(t){\"first-paint\"===t.name?l(\"timing\",[\"fp\",Math.floor(t.startTime)]):\"first-contentful-paint\"===t.name&&l(\"timing\",[\"fcp\",Math.floor(t.startTime)])})}function i(t,e){var n=t.getEntries();if(n.length>0){var r=n[n.length-1];if(u&&u<r.startTime)return;var i=[r],o=a({});o&&i.push(o),l(\"lcp\",i)}}function o(t){t.getEntries().forEach(function(t){t.hadRecentInput||l(\"cls\",[t])})}function a(t){var e=navigator.connection||navigator.mozConnection||navigator.webkitConnection;if(e)return e.type&&(t[\"net-type\"]=e.type),e.effectiveType&&(t[\"net-etype\"]=e.effectiveType),e.rtt&&(t[\"net-rtt\"]=e.rtt),e.downlink&&(t[\"net-dlink\"]=e.downlink),t}function c(t){if(t instanceof y&&!w){var e=Math.round(t.timeStamp),n={type:t.type};a(n),e<=v.now()?n.fid=v.now()-e:e>v.offset&&e<=Date.now()?(e-=v.offset,n.fid=v.now()-e):e=v.now(),w=!0,l(\"timing\",[\"fi\",e,n])}}function f(t){\"hidden\"===t&&(u=v.now(),l(\"pageHide\",[u]))}if(!(\"init\"in NREUM&&\"page_view_timing\"in NREUM.init&&\"enabled\"in NREUM.init.page_view_timing&&NREUM.init.page_view_timing.enabled===!1)){var u,s,d,p,l=t(\"handle\"),v=t(\"loader\"),m=t(8),g=t(3),y=NREUM.o.EV;if(\"PerformanceObserver\"in window&&\"function\"==typeof window.PerformanceObserver){s=new PerformanceObserver(r);try{s.observe({entryTypes:[\"paint\"]})}catch(h){}d=new PerformanceObserver(i);try{d.observe({entryTypes:[\"largest-contentful-paint\"]})}catch(h){}p=new PerformanceObserver(o);try{p.observe({type:\"layout-shift\",buffered:!0})}catch(h){}}if(\"addEventListener\"in document){var w=!1,b=[\"click\",\"keydown\",\"mousedown\",\"pointerdown\",\"touchstart\"];b.forEach(function(t){document.addEventListener(t,c,g(!1))})}m(f)}},{}],7:[function(t,e,n){function r(t,e){if(!i)return!1;if(t!==i)return!1;if(!e)return!0;if(!o)return!1;for(var n=o.split(\".\"),r=e.split(\".\"),a=0;a<r.length;a++)if(r[a]!==n[a])return!1;return!0}var i=null,o=null,a=/Version\\\\/(\\\\S+)\\\\s+Safari/;if(navigator.userAgent){var c=navigator.userAgent,f=c.match(a);f&&c.indexOf(\"Chrome\")===-1&&c.indexOf(\"Chromium\")===-1&&(i=\"Safari\",o=f[1])}e.exports={agent:i,version:o,match:r}},{}],8:[function(t,e,n){function r(t){function e(){t(c&&document[c]?document[c]:document[o]?\"hidden\":\"visible\")}\"addEventListener\"in document&&a&&document.addEventListener(a,e,i(!1))}var i=t(3);e.exports=r;var o,a,c;\"undefined\"!=typeof document.hidden?(o=\"hidden\",a=\"visibilitychange\",c=\"visibilityState\"):\"undefined\"!=typeof document.msHidden?(o=\"msHidden\",a=\"msvisibilitychange\"):\"undefined\"!=typeof document.webkitHidden&&(o=\"webkitHidden\",a=\"webkitvisibilitychange\",c=\"webkitVisibilityState\")},{}],9:[function(t,e,n){function r(t,e){var n=[],r=\"\",o=0;for(r in t)i.call(t,r)&&(n[o]=e(r,t[r]),o+=1);return n}var i=Object.prototype.hasOwnProperty;e.exports=r},{}],10:[function(t,e,n){function r(t,e,n){e||(e=0),\"undefined\"==typeof n&&(n=t?t.length:0);for(var r=-1,i=n-e||0,o=Array(i<0?0:i);++r<i;)o[r]=t[e+r];return o}e.exports=r},{}],11:[function(t,e,n){e.exports={exists:\"undefined\"!=typeof window.performance&&window.performance.timing&&\"undefined\"!=typeof window.performance.timing.navigationStart}},{}],ee:[function(t,e,n){function r(){}function i(t){function e(t){return t&&t instanceof r?t:t?u(t,f,a):a()}function n(n,r,i,o,a){if(a!==!1&&(a=!0),!l.aborted||o){t&&a&&t(n,r,i);for(var c=e(i),f=m(n),u=f.length,s=0;s<u;s++)f[s].apply(c,r);var p=d[w[n]];return p&&p.push([b,n,r,c]),c}}function o(t,e){h[t]=m(t).concat(e)}function v(t,e){var n=h[t];if(n)for(var r=0;r<n.length;r++)n[r]===e&&n.splice(r,1)}function m(t){return h[t]||[]}function g(t){return p[t]=p[t]||i(n)}function y(t,e){l.aborted||s(t,function(t,n){e=e||\"feature\",w[n]=e,e in d||(d[e]=[])})}var h={},w={},b={on:o,addEventListener:o,removeEventListener:v,emit:n,get:g,listeners:m,context:e,buffer:y,abort:c,aborted:!1};return b}function o(t){return u(t,f,a)}function a(){return new r}function c(){(d.api||d.feature)&&(l.aborted=!0,d=l.backlog={})}var f=\"nr@context\",u=t(\"gos\"),s=t(9),d={},p={},l=e.exports=i();e.exports.getOrSetContext=o,l.backlog=d},{}],gos:[function(t,e,n){function r(t,e,n){if(i.call(t,e))return t[e];var r=n();if(Object.defineProperty&&Object.keys)try{return Object.defineProperty(t,e,{value:r,writable:!0,enumerable:!1}),r}catch(o){}return t[e]=r,r}var i=Object.prototype.hasOwnProperty;e.exports=r},{}],handle:[function(t,e,n){function r(t,e,n,r){i.buffer([t],r),i.emit(t,e,n)}var i=t(\"ee\").get(\"handle\");e.exports=r,r.ee=i},{}],id:[function(t,e,n){function r(t){var e=typeof t;return!t||\"object\"!==e&&\"function\"!==e?-1:t===window?0:a(t,o,function(){return i++})}var i=1,o=\"nr@id\",a=t(\"gos\");e.exports=r},{}],loader:[function(t,e,n){function r(){if(!M++){var t=T.info=NREUM.info,e=m.getElementsByTagName(\"script\")[0];if(setTimeout(u.abort,3e4),!(t&&t.licenseKey&&t.applicationID&&e))return u.abort();f(x,function(e,n){t[e]||(t[e]=n)});var n=a();c(\"mark\",[\"onload\",n+T.offset],null,\"api\"),c(\"timing\",[\"load\",n]);var r=m.createElement(\"script\");0===t.agent.indexOf(\"http://\")||0===t.agent.indexOf(\"https://\")?r.src=t.agent:r.src=l+\"://\"+t.agent,e.parentNode.insertBefore(r,e)}}function i(){\"complete\"===m.readyState&&o()}function o(){c(\"mark\",[\"domContent\",a()+T.offset],null,\"api\")}var a=t(5),c=t(\"handle\"),f=t(9),u=t(\"ee\"),s=t(7),d=t(2),p=t(3),l=d.getConfiguration(\"ssl\")===!1?\"http\":\"https\",v=window,m=v.document,g=\"addEventListener\",y=\"attachEvent\",h=v.XMLHttpRequest,w=h&&h.prototype,b=!1;NREUM.o={ST:setTimeout,SI:v.setImmediate,CT:clearTimeout,XHR:h,REQ:v.Request,EV:v.Event,PR:v.Promise,MO:v.MutationObserver};var E=\"\"+location,x={beacon:\"bam.nr-data.net\",errorBeacon:\"bam.nr-data.net\",agent:\"js-agent.newrelic.com/nr-1216.min.js\"},O=h&&w&&w[g]&&!/CriOS/.test(navigator.userAgent),T=e.exports={offset:a.getLastTimestamp(),now:a,origin:E,features:{},xhrWrappable:O,userAgent:s,disabled:b};if(!b){t(1),t(6),m[g]?(m[g](\"DOMContentLoaded\",o,p(!1)),v[g](\"load\",r,p(!1))):(m[y](\"onreadystatechange\",i),v[y](\"onload\",r)),c(\"mark\",[\"firstbyte\",a.getLastTimestamp()],null,\"api\");var M=0}},{}],\"wrap-function\":[function(t,e,n){function r(t,e){function n(e,n,r,f,u){function nrWrapper(){var o,a,s,p;try{a=this,o=d(arguments),s=\"function\"==typeof r?r(o,a):r||{}}catch(l){i([l,\"\",[o,a,f],s],t)}c(n+\"start\",[o,a,f],s,u);try{return p=e.apply(a,o)}catch(v){throw c(n+\"err\",[o,a,v],s,u),v}finally{c(n+\"end\",[o,a,p],s,u)}}return a(e)?e:(n||(n=\"\"),nrWrapper[p]=e,o(e,nrWrapper,t),nrWrapper)}function r(t,e,r,i,o){r||(r=\"\");var c,f,u,s=\"-\"===r.charAt(0);for(u=0;u<e.length;u++)f=e[u],c=t[f],a(c)||(t[f]=n(c,s?f+r:r,i,f,o))}function c(n,r,o,a){if(!v||e){var c=v;v=!0;try{t.emit(n,r,o,e,a)}catch(f){i([f,n,r,o],t)}v=c}}return t||(t=s),n.inPlace=r,n.flag=p,n}function i(t,e){e||(e=s);try{e.emit(\"internal-error\",t)}catch(n){}}function o(t,e,n){if(Object.defineProperty&&Object.keys)try{var r=Object.keys(t);return r.forEach(function(n){Object.defineProperty(e,n,{get:function(){return t[n]},set:function(e){return t[n]=e,e}})}),e}catch(o){i([o],n)}for(var a in t)l.call(t,a)&&(e[a]=t[a]);return e}function a(t){return!(t&&t instanceof Function&&t.apply&&!t[p])}function c(t,e){var n=e(t);return n[p]=t,o(t,n,s),n}function f(t,e,n){var r=t[e];t[e]=c(r,n)}function u(){for(var t=arguments.length,e=new Array(t),n=0;n<t;++n)e[n]=arguments[n];return e}var s=t(\"ee\"),d=t(10),p=\"nr@original\",l=Object.prototype.hasOwnProperty,v=!1;e.exports=r,e.exports.wrapFunction=c,e.exports.wrapInPlace=f,e.exports.argsToArray=u},{}]},{},[\"loader\"]);\\n   </script>\\n   <script src=\"/retrieve/static/script/siteCatalystHelper.js\" type=\"text/JavaScript\">\\n   </script>\\n   <script src=\"https://ajax.googleapis.com/ajax/libs/jquery/1.10.1/jquery.min.js\" type=\"text/JavaScript\">\\n   </script>\\n   <script src=\"https://assets.adobedtm.com/4a848ae9611a/519188bfaff2/launch-d9c9ae460653.min.js\">\\n   </script>\\n   <title>\\n    Redirecting\\n   </title>\\n   <meta content=\"text/html; charset=utf-8\" http-equiv=\"Content-Type\"/>\\n   <link href=\"/retrieve/static/css/articleLocatorNew.css\" rel=\"stylesheet\" title=\"Default Styles\"/>\\n   <link href=\"/retrieve/static/css/updateForm.css\" rel=\"stylesheet\" title=\"Default Styles\"/>\\n   <script language=\"JavaScript\" type=\"text/javascript\">\\n    var timerStart = Date.now();\\nvar pageName = \"\";\\n\\nif (pageName == \"\") {\\n\\tpageName = \"Auto Article Locator\";\\n} \\n\\tfunction autoRedirectToURL() {\\n\\t\\tvar url = \\'/retrieve/\\'+document.getElementById(\\'resultName\\').value+\\'?Redirect=\\'+document.getElementById(\\'redirectURL\\').value+\\'&key=\\'+document.getElementById(\\'key\\').value\\n\\t\\ttry{siteCatalyst.clickEventTrack(document.getElementById(\\'id\\').value);}catch(e){}\\n\\t\\twindow.location = url;\\n\\t}\\n   </script>\\n  </meta>\\n </head>\\n <body onload=\"autoRedirectToURL();\">\\n  <tr style=\"display:none;\">\\n   <td colspan=\"2\">\\n    <input id=\"redirectURL\" name=\"redirectURL\" type=\"hidden\" value=\"https%3A%2F%2Fwww.sciencedirect.com%2Fscience%2Farticle%2Fpii%2FS0378778821009567%3Fvia%253Dihub\"/>\\n   </td>\\n  </tr>\\n  <tr style=\"display:none;\">\\n   <td colspan=\"2\">\\n    <input id=\"key\" name=\"key\" type=\"hidden\" value=\"c59e2457a94e37e3cc240380f6e1a0834386a377\"/>\\n   </td>\\n  </tr>\\n  <tr style=\"display:none;\">\\n   <td colspan=\"2\">\\n    <input id=\"id\" name=\"id\" type=\"hidden\" value=\"S0378778821009567\"/>\\n   </td>\\n  </tr>\\n  <tr style=\"display:none;\">\\n   <td colspan=\"2\">\\n    <input id=\"resultName\" name=\"resultName\" type=\"hidden\" value=\"articleSelectSinglePerm\"/>\\n   </td>\\n  </tr>\\n  <script type=\"text/javascript\">\\n   window.NREUM||(NREUM={});NREUM.info={\"errorBeacon\":\"bam-cell.nr-data.net\",\"licenseKey\":\"ee15051b1b\",\"agent\":\"\",\"beacon\":\"bam-cell.nr-data.net\",\"applicationTime\":43,\"applicationID\":\"81847441\",\"transactionName\":\"ZFBWNhBVWUpUWkBcC10aZxYQQUNKdFpAXAtdGkQLCxtkCQYODAJTCw0GU1IEDgwDDg==\",\"queueTime\":0}\\n  </script>\\n </body>\\n <script>\\n  siteCatalyst.pageDataLoad({\\n\\t\\t\\tbusinessUnit : \\'ELS:RP:ST\\',\\n            environment : \\'prod\\',\\n            language : \\'en\\',\\n            loadTime : (Date.now()-timerStart).toString(),\\n            loadTimestamp : Date.now().toString(),\\n            name : pageName,\\n            productName : \\'IH\\',\\n            type : \\'NP-GP\\',\\n            \\n            accessType : \\'ih:anon_guest\\',\\n            ipAddress : \\'145.253.110.218\\'\\n\\t\\t});\\n </script>\\n</html>\\n'"
      ]
     },
     "execution_count": 87,
     "metadata": {},
     "output_type": "execute_result"
    }
   ],
   "source": [
    "print(r.url)\n",
    "html_doc = r.text\n",
    "soup = BeautifulSoup(html_doc, 'html.parser')\n",
    "soup.prettify()"
   ]
  },
  {
   "cell_type": "code",
   "execution_count": 28,
   "metadata": {},
   "outputs": [],
   "source": [
    "headers = {\n",
    "    'User-Agent': 'Mozilla/5.0 (Windows NT 6.1) AppleWebKit/537.36 (KHTML, like Gecko) Chrome/41.0.2228.0 Safari/537.36',\n",
    "}\n",
    "res = requests.get(row['wosarticle__di'], headers=headers)"
   ]
  },
  {
   "cell_type": "code",
   "execution_count": 29,
   "metadata": {},
   "outputs": [
    {
     "data": {
      "text/plain": [
       "<Response [503]>"
      ]
     },
     "execution_count": 29,
     "metadata": {},
     "output_type": "execute_result"
    }
   ],
   "source": [
    "res"
   ]
  }
 ],
 "metadata": {
  "kernelspec": {
   "display_name": "tmv",
   "language": "python",
   "name": "tmv"
  },
  "language_info": {
   "codemirror_mode": {
    "name": "ipython",
    "version": 3
   },
   "file_extension": ".py",
   "mimetype": "text/x-python",
   "name": "python",
   "nbconvert_exporter": "python",
   "pygments_lexer": "ipython3",
   "version": "3.6.6"
  }
 },
 "nbformat": 4,
 "nbformat_minor": 4
}
